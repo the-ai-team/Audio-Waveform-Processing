{
 "cells": [
  {
   "cell_type": "code",
   "execution_count": 1,
   "metadata": {},
   "outputs": [
    {
     "name": "stdout",
     "output_type": "stream",
     "text": [
      "WARNING:tensorflow:From /home/ec2-user/anaconda3/envs/tensorflow_p36/lib/python3.6/site-packages/tensorflow_core/__init__.py:1473: The name tf.estimator.inputs is deprecated. Please use tf.compat.v1.estimator.inputs instead.\n",
      "\n",
      "1.15.2\n"
     ]
    }
   ],
   "source": [
    "import tensorflow as tf\n",
    "import matplotlib.pyplot as plt\n",
    "import numpy as np\n",
    "from tensorflow import keras\n",
    "from sklearn.utils import shuffle\n",
    "from tensorflow.keras import Sequential\n",
    "from tensorflow.keras import layers\n",
    "from tensorflow.keras.layers import Dense, Dropout, Flatten, Activation\n",
    "from tensorflow.keras.layers import Conv2D, MaxPool2D\n",
    "from tensorflow.keras.datasets import mnist\n",
    "print(tf.__version__)"
   ]
  },
  {
   "cell_type": "code",
   "execution_count": 2,
   "metadata": {},
   "outputs": [
    {
     "name": "stdout",
     "output_type": "stream",
     "text": [
      "270 556\n"
     ]
    }
   ],
   "source": [
    "import core_modules"
   ]
  },
  {
   "cell_type": "code",
   "execution_count": 3,
   "metadata": {},
   "outputs": [
    {
     "name": "stdout",
     "output_type": "stream",
     "text": [
      "0\n",
      "1000\n",
      "2000\n",
      "3000\n",
      "4000\n",
      "5000\n",
      "6000\n",
      "7000\n",
      "8000\n",
      "8512 Images loaded across 3 Categories\n"
     ]
    }
   ],
   "source": [
    "\n",
    "batch_size = 16\n",
    "num_classes = 3 #added \n",
    "\n",
    "# the data, split between train and test sets\n",
    "p = 0.8\n",
    "\n",
    "n, (x_train, y_train), (x_test, y_test) = core_modules.load_data(p)\n",
    "\n",
    "x_train, y_train = shuffle(x_train, y_train)\n",
    "\n",
    "\n",
    "x_train =  x_train.reshape((int(p*n),270,556,1))\n",
    "x_test  =  x_test.reshape((1-int(p*n),270,556,1))\n",
    "\n",
    "class_names= []\n",
    "for i in range(0,n):\n",
    "    class_names.append(str(i))\n",
    "\n",
    "# Showing a few examples\n",
    "#show_image_examples(class_names, x_train, y_train)\n",
    "\n",
    "\n",
    "x_train, x_test = x_train / 255.0, x_test / 255.0\n",
    "\n"
   ]
  },
  {
   "cell_type": "code",
   "execution_count": 4,
   "metadata": {},
   "outputs": [
    {
     "name": "stdout",
     "output_type": "stream",
     "text": [
      "WARNING:tensorflow:From /home/ec2-user/anaconda3/envs/tensorflow_p36/lib/python3.6/site-packages/tensorflow_core/python/ops/resource_variable_ops.py:1630: calling BaseResourceVariable.__init__ (from tensorflow.python.ops.resource_variable_ops) with constraint is deprecated and will be removed in a future version.\n",
      "Instructions for updating:\n",
      "If using Keras pass *_constraint arguments to layers.\n",
      "Model: \"sequential\"\n",
      "_________________________________________________________________\n",
      "Layer (type)                 Output Shape              Param #   \n",
      "=================================================================\n",
      "conv2d (Conv2D)              (None, 270, 556, 4)       200       \n",
      "_________________________________________________________________\n",
      "max_pooling2d (MaxPooling2D) (None, 90, 185, 4)        0         \n",
      "_________________________________________________________________\n",
      "conv2d_1 (Conv2D)            (None, 84, 179, 16)       3152      \n",
      "_________________________________________________________________\n",
      "max_pooling2d_1 (MaxPooling2 (None, 28, 59, 16)        0         \n",
      "_________________________________________________________________\n",
      "conv2d_2 (Conv2D)            (None, 22, 53, 32)        25120     \n",
      "_________________________________________________________________\n",
      "max_pooling2d_2 (MaxPooling2 (None, 7, 17, 32)         0         \n",
      "_________________________________________________________________\n",
      "conv2d_3 (Conv2D)            (None, 5, 15, 64)         18496     \n",
      "_________________________________________________________________\n",
      "flatten (Flatten)            (None, 4800)              0         \n",
      "_________________________________________________________________\n",
      "dense (Dense)                (None, 84)                403284    \n",
      "_________________________________________________________________\n",
      "dense_1 (Dense)              (None, 20)                1700      \n",
      "_________________________________________________________________\n",
      "dense_2 (Dense)              (None, 3)                 63        \n",
      "=================================================================\n",
      "Total params: 452,015\n",
      "Trainable params: 452,015\n",
      "Non-trainable params: 0\n",
      "_________________________________________________________________\n"
     ]
    }
   ],
   "source": [
    "model = tf.keras.models.Sequential([\n",
    "    tf.keras.layers.Conv2D(4, kernel_size=(7,7), padding='same', activation='relu', input_shape=(270,556, 1)),\n",
    "    tf.keras.layers.MaxPool2D(pool_size=(3,3)),\n",
    "    tf.keras.layers.Conv2D(16, kernel_size=(7,7), activation='relu'),\n",
    "    tf.keras.layers.MaxPool2D(pool_size=(3,3)),\n",
    "    tf.keras.layers.Conv2D(32, kernel_size=(7,7), activation='relu'),\n",
    "    tf.keras.layers.MaxPool2D(pool_size=(3,3)),\n",
    "    tf.keras.layers.Conv2D(64, kernel_size=(3,3), activation='relu'),\n",
    "    tf.keras.layers.Flatten(),\n",
    "    tf.keras.layers.Dense(84, activation='relu'),\n",
    "    tf.keras.layers.Dense(20, activation='relu'),\n",
    "    tf.keras.layers.Dense(3, activation='softmax')\n",
    "])\n",
    "\n",
    "model.compile(optimizer=keras.optimizers.Adam(),  # Optimizer\n",
    "              # Loss function to minimize\n",
    "              loss=keras.losses.SparseCategoricalCrossentropy(),\n",
    "              # List of metrics to monitor\n",
    "              metrics=[keras.metrics.SparseCategoricalAccuracy()])\n",
    "model.summary()"
   ]
  },
  {
   "cell_type": "code",
   "execution_count": null,
   "metadata": {},
   "outputs": [],
   "source": []
  },
  {
   "cell_type": "code",
   "execution_count": null,
   "metadata": {},
   "outputs": [],
   "source": []
  },
  {
   "cell_type": "code",
   "execution_count": 5,
   "metadata": {},
   "outputs": [
    {
     "name": "stdout",
     "output_type": "stream",
     "text": [
      "3\n"
     ]
    }
   ],
   "source": [
    "print(num_classes)"
   ]
  },
  {
   "cell_type": "code",
   "execution_count": 6,
   "metadata": {},
   "outputs": [
    {
     "name": "stdout",
     "output_type": "stream",
     "text": [
      "Train on 5447 samples, validate on 1362 samples\n",
      "WARNING:tensorflow:OMP_NUM_THREADS is no longer used by the default Keras config. To configure the number of threads, use tf.config.threading APIs.\n",
      "Epoch 1/8\n",
      "5447/5447 [==============================] - 41s 8ms/sample - loss: 0.7885 - sparse_categorical_accuracy: 0.5928 - val_loss: 0.7989 - val_sparse_categorical_accuracy: 0.5756\n",
      "Epoch 2/8\n",
      "5447/5447 [==============================] - 46s 8ms/sample - loss: 0.7318 - sparse_categorical_accuracy: 0.6409 - val_loss: 0.6951 - val_sparse_categorical_accuracy: 0.6681\n",
      "Epoch 3/8\n",
      "5447/5447 [==============================] - 45s 8ms/sample - loss: 0.6768 - sparse_categorical_accuracy: 0.6855 - val_loss: 0.6722 - val_sparse_categorical_accuracy: 0.6894\n",
      "Epoch 4/8\n",
      "5447/5447 [==============================] - 39s 7ms/sample - loss: 0.6417 - sparse_categorical_accuracy: 0.7041 - val_loss: 0.6425 - val_sparse_categorical_accuracy: 0.7122\n",
      "Epoch 5/8\n",
      "5447/5447 [==============================] - 39s 7ms/sample - loss: 0.6131 - sparse_categorical_accuracy: 0.7136 - val_loss: 0.6612 - val_sparse_categorical_accuracy: 0.6990\n",
      "Epoch 6/8\n",
      "5447/5447 [==============================] - 39s 7ms/sample - loss: 0.5836 - sparse_categorical_accuracy: 0.7384 - val_loss: 0.6139 - val_sparse_categorical_accuracy: 0.7217\n",
      "Epoch 7/8\n",
      "5447/5447 [==============================] - 39s 7ms/sample - loss: 0.5466 - sparse_categorical_accuracy: 0.7538 - val_loss: 0.6283 - val_sparse_categorical_accuracy: 0.7261\n",
      "Epoch 8/8\n",
      "5447/5447 [==============================] - 40s 7ms/sample - loss: 0.5172 - sparse_categorical_accuracy: 0.7729 - val_loss: 0.6180 - val_sparse_categorical_accuracy: 0.7254\n",
      "1703/1703 - 3s - loss: 0.5831 - sparse_categorical_accuracy: 0.7475\n",
      "Test loss: 0.5831215752620104\n",
      "Test accuracy: 0.7475044\n",
      "\n",
      "History dict: {'loss': [0.7884910866298084, 0.7317903170798795, 0.6767567880814155, 0.6416513359785211, 0.6131471039856249, 0.5835820347295019, 0.5466088123095677, 0.5172020778899808], 'sparse_categorical_accuracy': [0.59280336, 0.64090323, 0.685515, 0.7040573, 0.7136038, 0.7383881, 0.75380945, 0.7729025], 'val_loss': [0.7989331459333893, 0.6950639741011128, 0.6722156040031304, 0.6424971128350313, 0.6611942401191386, 0.6139413082477104, 0.6283482629997265, 0.6179930567741394], 'val_sparse_categorical_accuracy': [0.5756241, 0.6681351, 0.6894273, 0.71218795, 0.6989721, 0.72173274, 0.72613806, 0.72540385]}\n"
     ]
    }
   ],
   "source": [
    "history = model.fit(x_train, y_train,  batch_size=20, validation_split=0.2,epochs=8)\n",
    "\n",
    "score = model.evaluate(x_test,  y_test, verbose=2)\n",
    "\n",
    "print('Test loss:', score[0])\n",
    "print('Test accuracy:', score[1])\n",
    "print('\\nHistory dict:', history.history)"
   ]
  },
  {
   "cell_type": "code",
   "execution_count": null,
   "metadata": {},
   "outputs": [],
   "source": []
  },
  {
   "cell_type": "code",
   "execution_count": 7,
   "metadata": {},
   "outputs": [
    {
     "name": "stdout",
     "output_type": "stream",
     "text": [
      "1703/1703 - 3s - loss: 0.5831 - sparse_categorical_accuracy: 0.7475\n",
      "0.7475044\n"
     ]
    },
    {
     "data": {
      "image/png": "[encoded data removed]",
      "text/plain": [
       "<Figure size 432x288 with 1 Axes>"
      ]
     },
     "metadata": {
      "needs_background": "light"
     },
     "output_type": "display_data"
    }
   ],
   "source": [
    "plt.plot(history.history['sparse_categorical_accuracy'], label='sparse_categorical_accuracy')\n",
    "plt.plot(history.history['val_sparse_categorical_accuracy'], label = 'val_sparse_categorical_accuracy')\n",
    "plt.xlabel('Epoch')\n",
    "plt.ylabel('Accuracy')\n",
    "plt.ylim([0.5, 1])\n",
    "plt.legend(loc='lower right')\n",
    "\n",
    "test_loss, test_acc = model.evaluate(x_test,  y_test, verbose=2)\n",
    "\n",
    "print(test_acc)"
   ]
  },
  {
   "cell_type": "code",
   "execution_count": 10,
   "metadata": {},
   "outputs": [
    {
     "name": "stdout",
     "output_type": "stream",
     "text": [
      "1703/1703 - 3s - loss: 0.5831 - sparse_categorical_accuracy: 0.7475\n",
      "Restored model, accuracy: 74.75%\n"
     ]
    }
   ],
   "source": [
    "\n",
    "loss, acc = model.evaluate(x_test,  y_test, verbose=2)\n",
    "print('Restored model, accuracy: {:5.2f}%'.format(100*acc))"
   ]
  },
  {
   "cell_type": "code",
   "execution_count": 8,
   "metadata": {},
   "outputs": [
    {
     "data": {
      "text/plain": [
       "2"
      ]
     },
     "execution_count": 8,
     "metadata": {},
     "output_type": "execute_result"
    }
   ],
   "source": [
    "y_test[-690]"
   ]
  },
  {
   "cell_type": "code",
   "execution_count": 11,
   "metadata": {},
   "outputs": [],
   "source": [
    "keras_model_path = \"/home/ec2-user/SageMaker/ECG_Model/out/cnnV3_11_epochs.h5\"\n",
    "model.save(keras_model_path)  # save() should be called out of strategy scope"
   ]
  },
  {
   "cell_type": "code",
   "execution_count": null,
   "metadata": {},
   "outputs": [],
   "source": []
  },
  {
   "cell_type": "code",
   "execution_count": null,
   "metadata": {},
   "outputs": [],
   "source": []
  },
  {
   "cell_type": "code",
   "execution_count": null,
   "metadata": {},
   "outputs": [],
   "source": []
  },
  {
   "cell_type": "code",
   "execution_count": null,
   "metadata": {},
   "outputs": [],
   "source": []
  },
  {
   "cell_type": "code",
   "execution_count": null,
   "metadata": {},
   "outputs": [],
   "source": []
  },
  {
   "cell_type": "code",
   "execution_count": null,
   "metadata": {},
   "outputs": [],
   "source": []
  },
  {
   "cell_type": "code",
   "execution_count": null,
   "metadata": {},
   "outputs": [],
   "source": []
  },
  {
   "cell_type": "code",
   "execution_count": null,
   "metadata": {},
   "outputs": [],
   "source": []
  },
  {
   "cell_type": "code",
   "execution_count": null,
   "metadata": {},
   "outputs": [],
   "source": []
  },
  {
   "cell_type": "code",
   "execution_count": null,
   "metadata": {},
   "outputs": [],
   "source": []
  }
 ],
 "metadata": {
  "kernelspec": {
   "display_name": "conda_tensorflow_p36",
   "language": "python",
   "name": "conda_tensorflow_p36"
  },
  "language_info": {
   "codemirror_mode": {
    "name": "ipython",
    "version": 3
   },
   "file_extension": ".py",
   "mimetype": "text/x-python",
   "name": "python",
   "nbconvert_exporter": "python",
   "pygments_lexer": "ipython3",
   "version": "3.6.10"
  }
 },
 "nbformat": 4,
 "nbformat_minor": 4
}
