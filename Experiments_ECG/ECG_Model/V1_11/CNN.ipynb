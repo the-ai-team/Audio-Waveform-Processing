{
 "cells": [
  {
   "cell_type": "code",
   "execution_count": 1,
   "metadata": {},
   "outputs": [
    {
     "name": "stdout",
     "output_type": "stream",
     "text": [
      "WARNING:tensorflow:From /home/ec2-user/anaconda3/envs/tensorflow_p36/lib/python3.6/site-packages/tensorflow_core/__init__.py:1473: The name tf.estimator.inputs is deprecated. Please use tf.compat.v1.estimator.inputs instead.\n",
      "\n",
      "1.15.2\n"
     ]
    }
   ],
   "source": [
    "import tensorflow as tf\n",
    "import matplotlib.pyplot as plt\n",
    "import numpy as np\n",
    "from tensorflow import keras\n",
    "from sklearn.utils import shuffle\n",
    "from tensorflow.keras import Sequential\n",
    "from tensorflow.keras import layers\n",
    "from tensorflow.keras.layers import Dense, Dropout, Flatten, Activation\n",
    "from tensorflow.keras.layers import Conv2D, MaxPool2D\n",
    "from tensorflow.keras.datasets import mnist\n",
    "print(tf.__version__)"
   ]
  },
  {
   "cell_type": "code",
   "execution_count": 2,
   "metadata": {},
   "outputs": [
    {
     "name": "stdout",
     "output_type": "stream",
     "text": [
      "270 556\n"
     ]
    }
   ],
   "source": [
    "import core_modules"
   ]
  },
  {
   "cell_type": "code",
   "execution_count": 3,
   "metadata": {},
   "outputs": [
    {
     "name": "stdout",
     "output_type": "stream",
     "text": [
      "0\n",
      "1000\n",
      "2000\n",
      "3000\n",
      "4000\n",
      "5000\n",
      "6000\n",
      "7000\n",
      "8000\n",
      "8512 Images loaded across 3 Categories\n",
      "WARNING:tensorflow:From /home/ec2-user/anaconda3/envs/tensorflow_p36/lib/python3.6/site-packages/tensorflow_core/python/ops/resource_variable_ops.py:1630: calling BaseResourceVariable.__init__ (from tensorflow.python.ops.resource_variable_ops) with constraint is deprecated and will be removed in a future version.\n",
      "Instructions for updating:\n",
      "If using Keras pass *_constraint arguments to layers.\n",
      "Model: \"sequential\"\n",
      "_________________________________________________________________\n",
      "Layer (type)                 Output Shape              Param #   \n",
      "=================================================================\n",
      "conv2d (Conv2D)              (None, 270, 556, 6)       1740      \n",
      "_________________________________________________________________\n",
      "max_pooling2d (MaxPooling2D) (None, 90, 185, 6)        0         \n",
      "_________________________________________________________________\n",
      "conv2d_1 (Conv2D)            (None, 84, 179, 16)       4720      \n",
      "_________________________________________________________________\n",
      "max_pooling2d_1 (MaxPooling2 (None, 28, 59, 16)        0         \n",
      "_________________________________________________________________\n",
      "conv2d_2 (Conv2D)            (None, 22, 53, 32)        25120     \n",
      "_________________________________________________________________\n",
      "flatten (Flatten)            (None, 37312)             0         \n",
      "_________________________________________________________________\n",
      "dense (Dense)                (None, 120)               4477560   \n",
      "_________________________________________________________________\n",
      "dense_1 (Dense)              (None, 84)                10164     \n",
      "_________________________________________________________________\n",
      "dropout (Dropout)            (None, 84)                0         \n",
      "_________________________________________________________________\n",
      "dense_2 (Dense)              (None, 3)                 255       \n",
      "=================================================================\n",
      "Total params: 4,519,559\n",
      "Trainable params: 4,519,559\n",
      "Non-trainable params: 0\n",
      "_________________________________________________________________\n"
     ]
    }
   ],
   "source": [
    "\n",
    "batch_size = 16\n",
    "num_classes = 3 #added \n",
    "\n",
    "# the data, split between train and test sets\n",
    "p = 0.8\n",
    "\n",
    "n, (x_train, y_train), (x_test, y_test) = core_modules.load_data(p)\n",
    "\n",
    "x_train, y_train = shuffle(x_train, y_train)\n",
    "\n",
    "\n",
    "x_train =  x_train.reshape((int(p*n),270,556,1))\n",
    "x_test  =  x_test.reshape((1-int(p*n),270,556,1))\n",
    "\n",
    "class_names= []\n",
    "for i in range(0,n):\n",
    "    class_names.append(str(i))\n",
    "\n",
    "# Showing a few examples\n",
    "#show_image_examples(class_names, x_train, y_train)\n",
    "\n",
    "\n",
    "x_train, x_test = x_train / 255.0, x_test / 255.0\n",
    "\n",
    "\n",
    "model = tf.keras.models.Sequential([\n",
    "    tf.keras.layers.Conv2D(6, kernel_size=(17,17), padding='same', activation='relu', input_shape=(270,556, 1)),\n",
    "    tf.keras.layers.MaxPool2D(pool_size=(3,3)),\n",
    "    tf.keras.layers.Conv2D(16, kernel_size=(7,7), activation='relu'),\n",
    "    tf.keras.layers.MaxPool2D(pool_size=(3,3)),\n",
    "    tf.keras.layers.Conv2D(32, kernel_size=(7,7), activation='relu'),\n",
    "    tf.keras.layers.Flatten(),\n",
    "    tf.keras.layers.Dense(120, activation='relu'),\n",
    "    tf.keras.layers.Dense(84, activation='relu'),\n",
    "    tf.keras.layers.Dropout(0.5),\n",
    "    tf.keras.layers.Dense(3, activation='softmax')\n",
    "])\n",
    "\n",
    "model.compile(optimizer=keras.optimizers.Adam(),  # Optimizer\n",
    "              # Loss function to minimize\n",
    "              loss=keras.losses.SparseCategoricalCrossentropy(),\n",
    "              # List of metrics to monitor\n",
    "              metrics=[keras.metrics.SparseCategoricalAccuracy()])\n",
    "model.summary()"
   ]
  },
  {
   "cell_type": "code",
   "execution_count": null,
   "metadata": {},
   "outputs": [],
   "source": []
  },
  {
   "cell_type": "code",
   "execution_count": null,
   "metadata": {},
   "outputs": [],
   "source": []
  },
  {
   "cell_type": "code",
   "execution_count": null,
   "metadata": {},
   "outputs": [],
   "source": []
  },
  {
   "cell_type": "code",
   "execution_count": 4,
   "metadata": {},
   "outputs": [
    {
     "name": "stdout",
     "output_type": "stream",
     "text": [
      "3\n"
     ]
    }
   ],
   "source": [
    "print(num_classes)"
   ]
  },
  {
   "cell_type": "code",
   "execution_count": null,
   "metadata": {},
   "outputs": [
    {
     "name": "stdout",
     "output_type": "stream",
     "text": [
      "Train on 5447 samples, validate on 1362 samples\n",
      "WARNING:tensorflow:OMP_NUM_THREADS is no longer used by the default Keras config. To configure the number of threads, use tf.config.threading APIs.\n",
      "Epoch 1/15\n",
      "5447/5447 [==============================] - 116s 21ms/sample - loss: 0.8185 - sparse_categorical_accuracy: 0.5878 - val_loss: 0.7746 - val_sparse_categorical_accuracy: 0.6050\n",
      "Epoch 2/15\n",
      "5447/5447 [==============================] - 113s 21ms/sample - loss: 0.7930 - sparse_categorical_accuracy: 0.6112 - val_loss: 0.7442 - val_sparse_categorical_accuracy: 0.6351\n",
      "Epoch 3/15\n",
      "5447/5447 [==============================] - 114s 21ms/sample - loss: 0.7513 - sparse_categorical_accuracy: 0.6482 - val_loss: 0.7246 - val_sparse_categorical_accuracy: 0.6527\n",
      "Epoch 4/15\n",
      "5447/5447 [==============================] - 114s 21ms/sample - loss: 0.7176 - sparse_categorical_accuracy: 0.6672 - val_loss: 0.7097 - val_sparse_categorical_accuracy: 0.6637\n",
      "Epoch 5/15\n",
      "5447/5447 [==============================] - 113s 21ms/sample - loss: 0.6943 - sparse_categorical_accuracy: 0.6789 - val_loss: 0.7333 - val_sparse_categorical_accuracy: 0.6505\n",
      "Epoch 6/15\n",
      "5447/5447 [==============================] - 114s 21ms/sample - loss: 0.6748 - sparse_categorical_accuracy: 0.7000 - val_loss: 0.6885 - val_sparse_categorical_accuracy: 0.6894\n",
      "Epoch 7/15\n",
      "5447/5447 [==============================] - 114s 21ms/sample - loss: 0.6474 - sparse_categorical_accuracy: 0.7134 - val_loss: 0.6859 - val_sparse_categorical_accuracy: 0.6850\n",
      "Epoch 8/15\n",
      "5447/5447 [==============================] - 113s 21ms/sample - loss: 0.5945 - sparse_categorical_accuracy: 0.7364 - val_loss: 0.7339 - val_sparse_categorical_accuracy: 0.6953\n",
      "Epoch 9/15\n",
      "5447/5447 [==============================] - 114s 21ms/sample - loss: 0.5501 - sparse_categorical_accuracy: 0.7529 - val_loss: 0.6986 - val_sparse_categorical_accuracy: 0.7085\n",
      "Epoch 10/15\n",
      "5447/5447 [==============================] - 113s 21ms/sample - loss: 0.4994 - sparse_categorical_accuracy: 0.7823 - val_loss: 0.8126 - val_sparse_categorical_accuracy: 0.7004\n",
      "Epoch 11/15\n",
      "5447/5447 [==============================] - 114s 21ms/sample - loss: 0.4398 - sparse_categorical_accuracy: 0.8094 - val_loss: 0.9025 - val_sparse_categorical_accuracy: 0.6990\n",
      "Epoch 12/15\n",
      "5447/5447 [==============================] - 114s 21ms/sample - loss: 0.3911 - sparse_categorical_accuracy: 0.8388 - val_loss: 0.9640 - val_sparse_categorical_accuracy: 0.6872\n",
      "Epoch 13/15\n",
      "5447/5447 [==============================] - 113s 21ms/sample - loss: 0.3436 - sparse_categorical_accuracy: 0.8557 - val_loss: 1.1615 - val_sparse_categorical_accuracy: 0.6836\n",
      "Epoch 14/15\n",
      "5447/5447 [==============================] - 114s 21ms/sample - loss: 0.2734 - sparse_categorical_accuracy: 0.8878 - val_loss: 1.6197 - val_sparse_categorical_accuracy: 0.6681\n",
      "Epoch 15/15\n",
      "5447/5447 [==============================] - 114s 21ms/sample - loss: 0.2602 - sparse_categorical_accuracy: 0.8977 - val_loss: 1.5137 - val_sparse_categorical_accuracy: 0.6527\n",
      "1703/1703 - 5s - loss: 1.4708 - sparse_categorical_accuracy: 0.6870\n",
      "Test loss: 1.4708418512932357\n",
      "Test accuracy: 0.6870229\n",
      "\n",
      "History dict: {'loss': [0.8185151089369233, 0.7930091026180793, 0.7513373242029471, 0.7176242440101837, 0.6942628834014292, 0.6748442562847197, 0.6473670056791114, 0.5944861342174013, 0.550083583908517, 0.4994105389244254, 0.439816268951888, 0.3910943548822044, 0.3436376841785668, 0.2734393325829388, 0.260194698506284], 'sparse_categorical_accuracy': [0.5878465, 0.6111621, 0.64824677, 0.6671562, 0.67890584, 0.70001835, 0.7134202, 0.73636866, 0.7528915, 0.7822655, 0.8094364, 0.8388103, 0.8557004, 0.8878282, 0.89774185], 'val_loss': [0.774625231691044, 0.7441690556715939, 0.7246084467079846, 0.709727962811788, 0.7333329662177356, 0.6885231667678262, 0.6859331284150503, 0.733867053746652, 0.6986339657667275, 0.812615396517839, 0.9024778145000273, 0.9639950581934309, 1.1614536029914402, 1.6196678723707774, 1.5136712189988069], 'val_sparse_categorical_accuracy': [0.6049926, 0.6350955, 0.6527166, 0.6637298, 0.65051395, 0.6894273, 0.68502206, 0.69530106, 0.7085169, 0.7004405, 0.6989721, 0.6872247, 0.6835536, 0.6681351, 0.6527166]}\n"
     ]
    }
   ],
   "source": [
    "history = model.fit(x_train, y_train,  batch_size=20, validation_split=0.2,epochs=15)\n",
    "\n",
    "score = model.evaluate(x_test,  y_test, verbose=2)\n",
    "\n",
    "print('Test loss:', score[0])\n",
    "print('Test accuracy:', score[1])\n",
    "print('\\nHistory dict:', history.history)"
   ]
  },
  {
   "cell_type": "code",
   "execution_count": 6,
   "metadata": {},
   "outputs": [
    {
     "name": "stdout",
     "output_type": "stream",
     "text": [
      "1703/1703 - 5s - loss: 1.4708 - sparse_categorical_accuracy: 0.6870\n",
      "0.6870229\n"
     ]
    },
    {
     "data": {
      "image/png": "[encoded data removed]",
      "text/plain": [
       "<Figure size 432x288 with 1 Axes>"
      ]
     },
     "metadata": {
      "needs_background": "light"
     },
     "output_type": "display_data"
    }
   ],
   "source": [
    "plt.plot(history.history['sparse_categorical_accuracy'], label='sparse_categorical_accuracy')\n",
    "plt.plot(history.history['val_sparse_categorical_accuracy'], label = 'val_sparse_categorical_accuracy')\n",
    "plt.xlabel('Epoch')\n",
    "plt.ylabel('Accuracy')\n",
    "plt.ylim([0.5, 1])\n",
    "plt.legend(loc='lower right')\n",
    "\n",
    "test_loss, test_acc = model.evaluate(x_test,  y_test, verbose=2)\n",
    "\n",
    "print(test_acc)"
   ]
  },
  {
   "cell_type": "code",
   "execution_count": 7,
   "metadata": {},
   "outputs": [],
   "source": [
    "keras_model_path = \"/home/ec2-user/SageMaker/ECG_Model/out/cnn_11_epochs.h5\"\n",
    "model.save(keras_model_path)  # save() should be called out of strategy scope"
   ]
  },
  {
   "cell_type": "code",
   "execution_count": null,
   "metadata": {},
   "outputs": [],
   "source": []
  },
  {
   "cell_type": "code",
   "execution_count": null,
   "metadata": {},
   "outputs": [],
   "source": []
  },
  {
   "cell_type": "code",
   "execution_count": null,
   "metadata": {},
   "outputs": [],
   "source": []
  },
  {
   "cell_type": "code",
   "execution_count": null,
   "metadata": {},
   "outputs": [],
   "source": []
  },
  {
   "cell_type": "code",
   "execution_count": null,
   "metadata": {},
   "outputs": [],
   "source": []
  },
  {
   "cell_type": "code",
   "execution_count": null,
   "metadata": {},
   "outputs": [],
   "source": []
  },
  {
   "cell_type": "code",
   "execution_count": null,
   "metadata": {},
   "outputs": [],
   "source": []
  },
  {
   "cell_type": "code",
   "execution_count": null,
   "metadata": {},
   "outputs": [],
   "source": []
  },
  {
   "cell_type": "code",
   "execution_count": null,
   "metadata": {},
   "outputs": [],
   "source": []
  },
  {
   "cell_type": "code",
   "execution_count": null,
   "metadata": {},
   "outputs": [],
   "source": []
  }
 ],
 "metadata": {
  "kernelspec": {
   "display_name": "conda_tensorflow_p36",
   "language": "python",
   "name": "conda_tensorflow_p36"
  },
  "language_info": {
   "codemirror_mode": {
    "name": "ipython",
    "version": 3
   },
   "file_extension": ".py",
   "mimetype": "text/x-python",
   "name": "python",
   "nbconvert_exporter": "python",
   "pygments_lexer": "ipython3",
   "version": "3.6.10"
  }
 },
 "nbformat": 4,
 "nbformat_minor": 4
}
